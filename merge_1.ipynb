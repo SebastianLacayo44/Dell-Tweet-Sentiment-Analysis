{
 "cells": [
  {
   "cell_type": "code",
   "execution_count": 4,
   "metadata": {},
   "outputs": [],
   "source": [
    "import pandas as pd\n",
    "from sklearn.model_selection import train_test_split\n",
    "from sklearn.linear_model import LinearRegression\n",
    "from sklearn.metrics import mean_squared_error\n",
    "import statsmodels.api as sm\n",
    "from statsmodels.tsa.seasonal import seasonal_decompose\n",
    "import matplotlib.pyplot as plt\n",
    "from statsmodels.tsa.arima.model import ARIMA\n",
    "from statsmodels.tsa.seasonal import STL\n",
    "from statsmodels.tsa.api import STLForecast"
   ]
  },
  {
   "cell_type": "code",
   "execution_count": 9,
   "metadata": {},
   "outputs": [
    {
     "name": "stdout",
     "output_type": "stream",
     "text": [
      "                                 OLS Regression Results                                \n",
      "=======================================================================================\n",
      "Dep. Variable:             DELL_Close   R-squared (uncentered):                   0.995\n",
      "Model:                            OLS   Adj. R-squared (uncentered):              0.995\n",
      "Method:                 Least Squares   F-statistic:                          1.201e+04\n",
      "Date:                Mon, 22 Apr 2024   Prob (F-statistic):                   6.61e-192\n",
      "Time:                        21:31:03   Log-Likelihood:                         -439.79\n",
      "No. Observations:                 167   AIC:                                      885.6\n",
      "Df Residuals:                     164   BIC:                                      894.9\n",
      "Df Model:                           3                                                  \n",
      "Covariance Type:            nonrobust                                                  \n",
      "===============================================================================\n",
      "                  coef    std err          t      P>|t|      [0.025      0.975]\n",
      "-------------------------------------------------------------------------------\n",
      "VTSAX_Close     2.0777      0.812      2.560      0.011       0.475       3.680\n",
      "XLK_Close       0.3568      0.114      3.117      0.002       0.131       0.583\n",
      "SNP_Close      -0.0513      0.017     -2.934      0.004      -0.086      -0.017\n",
      "==============================================================================\n",
      "Omnibus:                       12.382   Durbin-Watson:                   0.118\n",
      "Prob(Omnibus):                  0.002   Jarque-Bera (JB):                5.333\n",
      "Skew:                           0.168   Prob(JB):                       0.0695\n",
      "Kurtosis:                       2.192   Cond. No.                     1.31e+04\n",
      "==============================================================================\n",
      "\n",
      "Notes:\n",
      "[1] R² is computed without centering (uncentered) since the model does not contain a constant.\n",
      "[2] Standard Errors assume that the covariance matrix of the errors is correctly specified.\n",
      "[3] The condition number is large, 1.31e+04. This might indicate that there are\n",
      "strong multicollinearity or other numerical problems.\n",
      "Mean Squared Error on Test Data: 44.693041204118124\n"
     ]
    }
   ],
   "source": [
    "### Securities Data\n",
    "\n",
    "# Date Manipulation \n",
    "\n",
    "df = pd.read_csv('data/all_securities.csv', header = 0)\n",
    "df['Date'] = pd.to_datetime(df['Date'])\n",
    "df.set_index('Date', inplace=True)\n",
    "\n",
    "start_date = '2022-01-01'\n",
    "end_date_training = '2022-08-31'\n",
    "start_date_testing= '2022-09-01'\n",
    "end_date_testing = '2022-09-30'\n",
    "\n",
    "training_data = df.loc[start_date:end_date_training]\n",
    "testing_data = df.loc[start_date_testing:end_date_testing]\n",
    "\n",
    "# Train & Fitt \n",
    "\n",
    "X_train=training_data[['VTSAX_Close', 'XLK_Close', 'SNP_Close']]\n",
    "X_test=testing_data[['VTSAX_Close', 'XLK_Close', 'SNP_Close']]\n",
    "y_train=training_data['DELL_Close']\n",
    "y_test=testing_data['DELL_Close']\n",
    "\n",
    "model = sm.OLS(y_train, X_train)\n",
    "results = model.fit()\n",
    "\n",
    "print(results.summary())\n",
    "\n",
    "y_pred_test = results.predict(X_test)\n",
    "mse_test = mean_squared_error(y_test, y_pred_test)\n",
    "print(\"Mean Squared Error on Test Data:\", mse_test)"
   ]
  },
  {
   "cell_type": "code",
   "execution_count": 31,
   "metadata": {},
   "outputs": [
    {
     "name": "stdout",
     "output_type": "stream",
     "text": [
      "                                 OLS Regression Results                                \n",
      "=======================================================================================\n",
      "Dep. Variable:             DELL_Close   R-squared (uncentered):                   0.995\n",
      "Model:                            OLS   Adj. R-squared (uncentered):              0.995\n",
      "Method:                 Least Squares   F-statistic:                              8954.\n",
      "Date:                Mon, 22 Apr 2024   Prob (F-statistic):                   7.79e-190\n",
      "Time:                        21:58:42   Log-Likelihood:                         -439.78\n",
      "No. Observations:                 167   AIC:                                      887.6\n",
      "Df Residuals:                     163   BIC:                                      900.0\n",
      "Df Model:                           4                                                  \n",
      "Covariance Type:            nonrobust                                                  \n",
      "===============================================================================\n",
      "                  coef    std err          t      P>|t|      [0.025      0.975]\n",
      "-------------------------------------------------------------------------------\n",
      "VTSAX_Close     2.0731      0.815      2.545      0.012       0.464       3.682\n",
      "XLK_Close       0.3539      0.117      3.033      0.003       0.124       0.584\n",
      "SNP_Close      -0.0511      0.018     -2.897      0.004      -0.086      -0.016\n",
      "percent_pos    -0.4396      3.108     -0.141      0.888      -6.576       5.697\n",
      "==============================================================================\n",
      "Omnibus:                       12.575   Durbin-Watson:                   0.117\n",
      "Prob(Omnibus):                  0.002   Jarque-Bera (JB):                5.363\n",
      "Skew:                           0.166   Prob(JB):                       0.0685\n",
      "Kurtosis:                       2.188   Cond. No.                     4.99e+04\n",
      "==============================================================================\n",
      "\n",
      "Notes:\n",
      "[1] R² is computed without centering (uncentered) since the model does not contain a constant.\n",
      "[2] Standard Errors assume that the covariance matrix of the errors is correctly specified.\n",
      "[3] The condition number is large, 4.99e+04. This might indicate that there are\n",
      "strong multicollinearity or other numerical problems.\n",
      "Mean Squared Error on Test Data: 44.76676154197584\n"
     ]
    },
    {
     "name": "stderr",
     "output_type": "stream",
     "text": [
      "/opt/anaconda3/lib/python3.8/site-packages/pandas/core/indexes/base.py:1711: FutureWarning: Comparison of NaT with datetime.date is deprecated in order to match the standard library behavior.  In a future version these will be considered non-comparable.\n",
      "  return self._engine.is_monotonic_increasing\n"
     ]
    }
   ],
   "source": [
    "import pandas as pd\n",
    "\n",
    "# Load the all securities data and convert the date\n",
    "df_ = pd.read_csv('data/all_securities.csv')\n",
    "df_['Date'] = pd.to_datetime(df_['Date']).dt.date\n",
    "df_.set_index('Date', inplace=True)\n",
    "\n",
    "# Load the daily data and set the index\n",
    "new_data = pd.read_csv('data/daily_data_v2.csv')\n",
    "new_data['stock_date'] = pd.to_datetime(new_data['stock_date']).dt.date\n",
    "new_data.set_index('stock_date', inplace=True)\n",
    "\n",
    "# Join the new feature 'percent_pos' onto the original dataframe\n",
    "df = df_.join(new_data[['percent_pos']], how='left')\n",
    "\n",
    "# Define the training and testing period as date objects\n",
    "start_date = pd.to_datetime('2022-01-01').date()\n",
    "end_date_training = pd.to_datetime('2022-08-31').date()\n",
    "start_date_testing = pd.to_datetime('2022-09-01').date()\n",
    "end_date_testing = pd.to_datetime('2022-09-30').date()\n",
    "\n",
    "# Split the data into training and testing sets using date filtering properly\n",
    "training_data = df.loc[start_date:end_date_training]\n",
    "testing_data = df.loc[start_date_testing:end_date_testing]\n",
    "\n",
    "# Prepare the independent variables for regression\n",
    "X_train = training_data[['VTSAX_Close', 'XLK_Close', 'SNP_Close', 'percent_pos']].dropna()\n",
    "X_test = testing_data[['VTSAX_Close', 'XLK_Close', 'SNP_Close', 'percent_pos']].dropna()\n",
    "y_train = training_data['DELL_Close'].loc[X_train.index]  # Align with X_train to avoid NaN issues\n",
    "y_test = testing_data['DELL_Close'].loc[X_test.index]     # Align with X_test to avoid NaN issues\n",
    "\n",
    "\n",
    "# Fit the OLS regression model\n",
    "model = sm.OLS(y_train, X_train)\n",
    "results = model.fit()\n",
    "\n",
    "# Print the summary of the model\n",
    "print(results.summary())\n",
    "\n",
    "# Predict using the model\n",
    "y_pred_test = results.predict(X_test)\n",
    "\n",
    "# Calculate and print the mean squared error on the test data\n",
    "mse_test = mean_squared_error(y_test, y_pred_test)\n",
    "print(\"Mean Squared Error on Test Data:\", mse_test)"
   ]
  },
  {
   "cell_type": "code",
   "execution_count": null,
   "metadata": {},
   "outputs": [],
   "source": []
  }
 ],
 "metadata": {
  "kernelspec": {
   "display_name": "Python 3.8.8 ('base')",
   "language": "python",
   "name": "python3"
  },
  "language_info": {
   "codemirror_mode": {
    "name": "ipython",
    "version": 3
   },
   "file_extension": ".py",
   "mimetype": "text/x-python",
   "name": "python",
   "nbconvert_exporter": "python",
   "pygments_lexer": "ipython3",
   "version": "3.8.8"
  },
  "orig_nbformat": 4,
  "vscode": {
   "interpreter": {
    "hash": "40d3a090f54c6569ab1632332b64b2c03c39dcf918b08424e98f38b5ae0af88f"
   }
  }
 },
 "nbformat": 4,
 "nbformat_minor": 2
}
